{
 "cells": [
  {
   "cell_type": "code",
   "execution_count": 27,
   "metadata": {},
   "outputs": [],
   "source": [
    "from midiutil import MIDIFile\n",
    "import sys\n",
    "import subprocess\n",
    "import numpy as np\n",
    "import random"
   ]
  },
  {
   "cell_type": "code",
   "execution_count": 2,
   "metadata": {},
   "outputs": [],
   "source": [
    "def open_file(path):\n",
    "    cmd = {'linux':'eog', 'win32':'explorer', 'darwin':'open'}[sys.platform]\n",
    "    subprocess.run([cmd, path])"
   ]
  },
  {
   "cell_type": "code",
   "execution_count": 2,
   "metadata": {},
   "outputs": [
    {
     "ename": "NameError",
     "evalue": "name 'note_groups' is not defined",
     "output_type": "error",
     "traceback": [
      "\u001b[0;31m---------------------------------------------------------------------------\u001b[0m",
      "\u001b[0;31mNameError\u001b[0m                                 Traceback (most recent call last)",
      "\u001b[0;32m<ipython-input-2-91c23bdee382>\u001b[0m in \u001b[0;36m<module>\u001b[0;34m\u001b[0m\n\u001b[1;32m      9\u001b[0m \u001b[0mmidi\u001b[0m\u001b[0;34m.\u001b[0m\u001b[0maddTempo\u001b[0m\u001b[0;34m(\u001b[0m\u001b[0mtrack\u001b[0m\u001b[0;34m,\u001b[0m \u001b[0mtime\u001b[0m\u001b[0;34m,\u001b[0m \u001b[0;36m140\u001b[0m\u001b[0;34m)\u001b[0m\u001b[0;34m\u001b[0m\u001b[0;34m\u001b[0m\u001b[0m\n\u001b[1;32m     10\u001b[0m \u001b[0;34m\u001b[0m\u001b[0m\n\u001b[0;32m---> 11\u001b[0;31m \u001b[0;32mfor\u001b[0m \u001b[0mnote_group\u001b[0m \u001b[0;32min\u001b[0m \u001b[0mnote_groups\u001b[0m\u001b[0;34m:\u001b[0m\u001b[0;34m\u001b[0m\u001b[0;34m\u001b[0m\u001b[0m\n\u001b[0m\u001b[1;32m     12\u001b[0m     \u001b[0mduration\u001b[0m \u001b[0;34m=\u001b[0m \u001b[0;32mNone\u001b[0m\u001b[0;34m\u001b[0m\u001b[0;34m\u001b[0m\u001b[0m\n\u001b[1;32m     13\u001b[0m     \u001b[0;32mfor\u001b[0m \u001b[0mnote\u001b[0m \u001b[0;32min\u001b[0m \u001b[0mnote_group\u001b[0m\u001b[0;34m:\u001b[0m\u001b[0;34m\u001b[0m\u001b[0;34m\u001b[0m\u001b[0m\n",
      "\u001b[0;31mNameError\u001b[0m: name 'note_groups' is not defined"
     ]
    }
   ],
   "source": [
    "midi = MIDIFile(1)\n",
    "\n",
    "track = 0\n",
    "time = 0\n",
    "channel = 0\n",
    "volume = 100\n",
    "\n",
    "midi.addTrackName(track, time, \"Track\")\n",
    "midi.addTempo(track, time, 140)\n",
    "\n",
    "for note_group in note_groups:\n",
    "    duration = None\n",
    "    for note in note_group:\n",
    "        note_type = note.sym\n",
    "        if note_type == \"1\":\n",
    "            duration = 4\n",
    "        elif note_type == \"2\":\n",
    "            duration = 2\n",
    "        elif note_type == \"4,8\":\n",
    "            duration = 1 if len(note_group) == 1 else 0.5\n",
    "        pitch = note.pitch\n",
    "        midi.addNote(track,channel,pitch,time,duration,volume)\n",
    "        time += duration\n",
    "\n",
    "midi.addNote(track,channel,pitch,time,4,0)\n",
    "# And write it to disk.\n",
    "binfile = open(\"output.mid\", 'wb')\n",
    "midi.writeFile(binfile)\n",
    "binfile.close()\n",
    "open_file('output.mid')\n"
   ]
  },
  {
   "cell_type": "code",
   "execution_count": 23,
   "metadata": {},
   "outputs": [],
   "source": [
    "degrees = np.array([60, 64, 67, 72]) # MIDI note number track =0\n",
    "channel = 0\n",
    "track = 0\n",
    "time =0 # In beats\n",
    "duration =1 # In beats\n",
    "tempo = 60 # In BPM\n",
    "volume= 100 # 0-127, as per the MIDI standard\n",
    "MyMIDI = MIDIFile(2) # One track, defaults to format 1 (tempo track # automatically created)\n",
    "MyMIDI.addTempo(track,time, tempo)\n",
    "for pitch in degrees:\n",
    "    MyMIDI.addNote(track, channel, pitch, time, duration, volume) \n",
    "time = time + 0.5\n",
    "for pitch in degrees+1:\n",
    "    MyMIDI.addNote(track, channel, pitch, time, duration, volume) \n",
    "    #time = time -0.5\n",
    "    \n",
    "for pitch in degrees:\n",
    "    MyMIDI.addNote(1, channel, pitch, time, duration, volume) \n",
    "\n",
    " \n",
    "with open(\"output.mid\", \"wb\") as output_file: MyMIDI.writeFile(output_file)\n",
    "open_file('output.mid')"
   ]
  },
  {
   "cell_type": "code",
   "execution_count": 18,
   "metadata": {},
   "outputs": [
    {
     "data": {
      "text/plain": [
       "2"
      ]
     },
     "execution_count": 18,
     "metadata": {},
     "output_type": "execute_result"
    }
   ],
   "source": [
    "1+1"
   ]
  },
  {
   "cell_type": "code",
   "execution_count": 19,
   "metadata": {},
   "outputs": [
    {
     "data": {
      "text/plain": [
       "<bound method MIDIFile.addNote of <midiutil.MidiFile.MIDIFile object at 0x10a5c2c50>>"
      ]
     },
     "execution_count": 19,
     "metadata": {},
     "output_type": "execute_result"
    }
   ],
   "source": [
    "MyMIDI.addNote"
   ]
  },
  {
   "cell_type": "code",
   "execution_count": 26,
   "metadata": {},
   "outputs": [],
   "source": [
    "channel = 0\n",
    "track = 0\n",
    "time =0 # In beats\n",
    "duration =1 # In beats\n",
    "tempo = 60 # In BPM\n",
    "volume= 100 # 0-127, as per the MIDI standard\n",
    "MyMIDI = MIDIFile(1) # One track, defaults to format 1 (tempo track # automatically created)\n",
    "MyMIDI.addTempo(track,time, tempo)\n",
    "\n",
    "MyMIDI.addNote(track, channel, 60, 0, duration, volume) \n",
    "time = time + 0.5\n",
    "\n",
    "MyMIDI.addNote(track, channel, 64, 4, duration, volume) \n",
    "time = time + 0.5\n",
    "\n",
    "MyMIDI.addNote(track, channel, 67, 2, duration, volume) \n",
    "time = time + 0.5\n",
    "\n",
    "\n",
    "with open(\"output.mid\", \"wb\") as output_file: MyMIDI.writeFile(output_file)\n",
    "open_file('output.mid')"
   ]
  },
  {
   "cell_type": "code",
   "execution_count": 28,
   "metadata": {},
   "outputs": [
    {
     "data": {
      "text/plain": [
       "76"
      ]
     },
     "execution_count": 28,
     "metadata": {},
     "output_type": "execute_result"
    }
   ],
   "source": [
    "x = random.randrange(0, 127)\n",
    "x"
   ]
  },
  {
   "cell_type": "code",
   "execution_count": 35,
   "metadata": {},
   "outputs": [],
   "source": [
    "channel = 0\n",
    "track = 0\n",
    "time =0 # In beats\n",
    "duration =1 # In beats\n",
    "tempo = 600 # In BPM\n",
    "volume= 100 # 0-127, as per the MIDI standard\n",
    "MyMIDI = MIDIFile(1) # One track, defaults to format 1 (tempo track # automatically created)\n",
    "MyMIDI.addTempo(track,time, tempo)\n",
    "\n"
   ]
  },
  {
   "cell_type": "code",
   "execution_count": 36,
   "metadata": {},
   "outputs": [
    {
     "name": "stdout",
     "output_type": "stream",
     "text": [
      "73 59\n",
      "87 68\n",
      "64 51\n",
      "73 8\n",
      "49 6\n",
      "35 2\n",
      "66 72\n",
      "32 83\n",
      "32 68\n",
      "28 69\n",
      "37 98\n",
      "45 53\n",
      "46 77\n",
      "61 48\n",
      "68 120\n",
      "57 40\n",
      "74 101\n",
      "47 26\n",
      "88 72\n",
      "39 22\n",
      "81 119\n",
      "65 111\n",
      "88 88\n",
      "67 56\n",
      "58 98\n",
      "28 69\n",
      "27 115\n",
      "28 123\n",
      "72 44\n",
      "65 71\n",
      "64 50\n",
      "36 34\n",
      "26 6\n",
      "39 104\n",
      "88 42\n",
      "33 36\n",
      "80 50\n",
      "82 4\n",
      "48 30\n",
      "55 109\n",
      "51 5\n",
      "65 107\n",
      "60 31\n",
      "74 45\n",
      "70 2\n",
      "84 86\n",
      "69 33\n",
      "45 10\n",
      "71 18\n",
      "37 18\n",
      "85 115\n",
      "54 86\n",
      "71 46\n",
      "38 119\n",
      "74 54\n",
      "73 106\n",
      "54 103\n",
      "43 65\n",
      "81 7\n",
      "68 79\n",
      "78 57\n",
      "75 77\n",
      "27 60\n",
      "81 78\n",
      "39 3\n",
      "88 9\n",
      "82 120\n",
      "88 92\n",
      "80 126\n",
      "76 86\n",
      "84 82\n",
      "74 61\n",
      "60 81\n",
      "82 92\n",
      "87 88\n",
      "50 23\n",
      "62 97\n",
      "65 90\n",
      "71 53\n",
      "76 41\n",
      "44 118\n",
      "24 19\n",
      "28 123\n",
      "42 12\n",
      "74 105\n",
      "77 120\n",
      "39 41\n",
      "53 82\n",
      "89 9\n",
      "25 123\n",
      "53 68\n",
      "48 42\n",
      "26 75\n",
      "80 46\n",
      "45 73\n",
      "70 59\n",
      "49 54\n",
      "54 83\n",
      "43 24\n",
      "79 123\n",
      "80 11\n",
      "50 122\n",
      "80 82\n",
      "37 58\n",
      "80 47\n",
      "26 66\n",
      "58 117\n",
      "35 73\n",
      "51 16\n",
      "59 95\n",
      "57 15\n",
      "65 89\n",
      "82 93\n",
      "70 15\n",
      "69 123\n",
      "43 7\n",
      "76 82\n",
      "35 49\n",
      "71 80\n",
      "41 126\n",
      "73 5\n",
      "71 83\n",
      "49 33\n",
      "60 112\n",
      "24 111\n",
      "42 64\n",
      "73 16\n",
      "36 101\n",
      "60 97\n",
      "36 71\n",
      "30 32\n",
      "24 120\n",
      "58 22\n",
      "26 51\n",
      "51 126\n",
      "62 120\n",
      "60 53\n",
      "80 108\n",
      "44 71\n",
      "47 110\n",
      "65 25\n",
      "46 107\n",
      "76 104\n",
      "31 77\n",
      "79 63\n",
      "55 116\n",
      "86 52\n",
      "27 97\n",
      "82 34\n",
      "30 86\n",
      "74 48\n",
      "50 91\n",
      "25 97\n",
      "62 116\n",
      "31 4\n",
      "66 32\n",
      "34 110\n",
      "85 71\n",
      "33 90\n",
      "46 5\n",
      "81 51\n",
      "35 122\n",
      "40 96\n",
      "28 18\n",
      "51 42\n",
      "77 19\n",
      "85 5\n",
      "74 11\n",
      "50 61\n",
      "46 30\n",
      "34 10\n",
      "42 69\n",
      "33 46\n",
      "65 99\n",
      "27 69\n",
      "42 83\n",
      "34 119\n",
      "34 55\n",
      "35 123\n",
      "48 12\n",
      "44 109\n",
      "82 1\n",
      "41 58\n",
      "30 51\n",
      "87 113\n",
      "56 21\n",
      "57 25\n",
      "63 96\n",
      "54 107\n",
      "61 108\n",
      "52 95\n",
      "55 19\n",
      "81 57\n",
      "71 19\n",
      "47 41\n",
      "84 77\n",
      "66 78\n",
      "24 79\n",
      "49 114\n",
      "38 37\n"
     ]
    }
   ],
   "source": [
    "for i in range(200):\n",
    "    pitch = random.randrange(24, 90)\n",
    "    time = random.randrange(0, 127)\n",
    "    MyMIDI.addNote(track, channel, pitch, time, duration, volume)\n",
    "    print (pitch, time)"
   ]
  },
  {
   "cell_type": "code",
   "execution_count": 37,
   "metadata": {},
   "outputs": [],
   "source": [
    "with open(\"output.mid\", \"wb\") as output_file: MyMIDI.writeFile(output_file)\n",
    "open_file('output.mid')"
   ]
  },
  {
   "cell_type": "code",
   "execution_count": null,
   "metadata": {},
   "outputs": [],
   "source": []
  }
 ],
 "metadata": {
  "kernelspec": {
   "display_name": "Python 3",
   "language": "python",
   "name": "python3"
  },
  "language_info": {
   "codemirror_mode": {
    "name": "ipython",
    "version": 3
   },
   "file_extension": ".py",
   "mimetype": "text/x-python",
   "name": "python",
   "nbconvert_exporter": "python",
   "pygments_lexer": "ipython3",
   "version": "3.7.3"
  }
 },
 "nbformat": 4,
 "nbformat_minor": 2
}
