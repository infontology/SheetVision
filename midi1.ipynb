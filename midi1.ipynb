{
 "cells": [
  {
   "cell_type": "code",
   "execution_count": 1,
   "metadata": {},
   "outputs": [],
   "source": [
    "from midiutil import MIDIFile\n",
    "import sys\n",
    "import subprocess\n",
    "import numpy as np\n",
    "import random"
   ]
  },
  {
   "cell_type": "code",
   "execution_count": 2,
   "metadata": {},
   "outputs": [],
   "source": [
    "def open_file(path):\n",
    "    cmd = {'linux':'eog', 'win32':'explorer', 'darwin':'open'}[sys.platform]\n",
    "    subprocess.run([cmd, path])"
   ]
  },
  {
   "cell_type": "code",
   "execution_count": 2,
   "metadata": {},
   "outputs": [
    {
     "ename": "NameError",
     "evalue": "name 'note_groups' is not defined",
     "output_type": "error",
     "traceback": [
      "\u001b[0;31m---------------------------------------------------------------------------\u001b[0m",
      "\u001b[0;31mNameError\u001b[0m                                 Traceback (most recent call last)",
      "\u001b[0;32m<ipython-input-2-91c23bdee382>\u001b[0m in \u001b[0;36m<module>\u001b[0;34m\u001b[0m\n\u001b[1;32m      9\u001b[0m \u001b[0mmidi\u001b[0m\u001b[0;34m.\u001b[0m\u001b[0maddTempo\u001b[0m\u001b[0;34m(\u001b[0m\u001b[0mtrack\u001b[0m\u001b[0;34m,\u001b[0m \u001b[0mtime\u001b[0m\u001b[0;34m,\u001b[0m \u001b[0;36m140\u001b[0m\u001b[0;34m)\u001b[0m\u001b[0;34m\u001b[0m\u001b[0;34m\u001b[0m\u001b[0m\n\u001b[1;32m     10\u001b[0m \u001b[0;34m\u001b[0m\u001b[0m\n\u001b[0;32m---> 11\u001b[0;31m \u001b[0;32mfor\u001b[0m \u001b[0mnote_group\u001b[0m \u001b[0;32min\u001b[0m \u001b[0mnote_groups\u001b[0m\u001b[0;34m:\u001b[0m\u001b[0;34m\u001b[0m\u001b[0;34m\u001b[0m\u001b[0m\n\u001b[0m\u001b[1;32m     12\u001b[0m     \u001b[0mduration\u001b[0m \u001b[0;34m=\u001b[0m \u001b[0;32mNone\u001b[0m\u001b[0;34m\u001b[0m\u001b[0;34m\u001b[0m\u001b[0m\n\u001b[1;32m     13\u001b[0m     \u001b[0;32mfor\u001b[0m \u001b[0mnote\u001b[0m \u001b[0;32min\u001b[0m \u001b[0mnote_group\u001b[0m\u001b[0;34m:\u001b[0m\u001b[0;34m\u001b[0m\u001b[0;34m\u001b[0m\u001b[0m\n",
      "\u001b[0;31mNameError\u001b[0m: name 'note_groups' is not defined"
     ]
    }
   ],
   "source": [
    "midi = MIDIFile(1)\n",
    "\n",
    "track = 0\n",
    "time = 0\n",
    "channel = 0\n",
    "volume = 100\n",
    "\n",
    "midi.addTrackName(track, time, \"Track\")\n",
    "midi.addTempo(track, time, 140)\n",
    "\n",
    "for note_group in note_groups:\n",
    "    duration = None\n",
    "    for note in note_group:\n",
    "        note_type = note.sym\n",
    "        if note_type == \"1\":\n",
    "            duration = 4\n",
    "        elif note_type == \"2\":\n",
    "            duration = 2\n",
    "        elif note_type == \"4,8\":\n",
    "            duration = 1 if len(note_group) == 1 else 0.5\n",
    "        pitch = note.pitch\n",
    "        midi.addNote(track,channel,pitch,time,duration,volume)\n",
    "        time += duration\n",
    "\n",
    "midi.addNote(track,channel,pitch,time,4,0)\n",
    "# And write it to disk.\n",
    "binfile = open(\"output.mid\", 'wb')\n",
    "midi.writeFile(binfile)\n",
    "binfile.close()\n",
    "open_file('output.mid')\n"
   ]
  },
  {
   "cell_type": "code",
   "execution_count": 23,
   "metadata": {},
   "outputs": [],
   "source": [
    "degrees = np.array([60, 64, 67, 72]) # MIDI note number track =0\n",
    "channel = 0\n",
    "track = 0\n",
    "time =0 # In beats\n",
    "duration =1 # In beats\n",
    "tempo = 60 # In BPM\n",
    "volume= 100 # 0-127, as per the MIDI standard\n",
    "MyMIDI = MIDIFile(2) # One track, defaults to format 1 (tempo track # automatically created)\n",
    "MyMIDI.addTempo(track,time, tempo)\n",
    "for pitch in degrees:\n",
    "    MyMIDI.addNote(track, channel, pitch, time, duration, volume) \n",
    "time = time + 0.5\n",
    "for pitch in degrees+1:\n",
    "    MyMIDI.addNote(track, channel, pitch, time, duration, volume) \n",
    "    #time = time -0.5\n",
    "    \n",
    "for pitch in degrees:\n",
    "    MyMIDI.addNote(1, channel, pitch, time, duration, volume) \n",
    "\n",
    " \n",
    "with open(\"output.mid\", \"wb\") as output_file: MyMIDI.writeFile(output_file)\n",
    "open_file('output.mid')"
   ]
  },
  {
   "cell_type": "code",
   "execution_count": 18,
   "metadata": {},
   "outputs": [
    {
     "data": {
      "text/plain": [
       "2"
      ]
     },
     "execution_count": 18,
     "metadata": {},
     "output_type": "execute_result"
    }
   ],
   "source": [
    "1+1"
   ]
  },
  {
   "cell_type": "code",
   "execution_count": 19,
   "metadata": {},
   "outputs": [
    {
     "data": {
      "text/plain": [
       "<bound method MIDIFile.addNote of <midiutil.MidiFile.MIDIFile object at 0x10a5c2c50>>"
      ]
     },
     "execution_count": 19,
     "metadata": {},
     "output_type": "execute_result"
    }
   ],
   "source": [
    "MyMIDI.addNote"
   ]
  },
  {
   "cell_type": "code",
   "execution_count": 26,
   "metadata": {},
   "outputs": [],
   "source": [
    "channel = 0\n",
    "track = 0\n",
    "time =0 # In beats\n",
    "duration =1 # In beats\n",
    "tempo = 60 # In BPM\n",
    "volume= 100 # 0-127, as per the MIDI standard\n",
    "MyMIDI = MIDIFile(1) # One track, defaults to format 1 (tempo track # automatically created)\n",
    "MyMIDI.addTempo(track,time, tempo)\n",
    "\n",
    "MyMIDI.addNote(track, channel, 60, 0, duration, volume) \n",
    "time = time + 0.5\n",
    "\n",
    "MyMIDI.addNote(track, channel, 64, 4, duration, volume) \n",
    "time = time + 0.5\n",
    "\n",
    "MyMIDI.addNote(track, channel, 67, 2, duration, volume) \n",
    "time = time + 0.5\n",
    "\n",
    "\n",
    "with open(\"output.mid\", \"wb\") as output_file: MyMIDI.writeFile(output_file)\n",
    "open_file('output.mid')"
   ]
  },
  {
   "cell_type": "code",
   "execution_count": 28,
   "metadata": {},
   "outputs": [
    {
     "data": {
      "text/plain": [
       "76"
      ]
     },
     "execution_count": 28,
     "metadata": {},
     "output_type": "execute_result"
    }
   ],
   "source": [
    "x = random.randrange(0, 127)\n",
    "x"
   ]
  },
  {
   "cell_type": "code",
   "execution_count": 27,
   "metadata": {},
   "outputs": [],
   "source": [
    "channel = 0\n",
    "track = 0\n",
    "time =0 # In beats\n",
    "duration =1 # In beats\n",
    "tempo = 120 # In BPM\n",
    "volume= 64 # 0-127, as per the MIDI standard\n",
    "MyMIDI = MIDIFile(1) # One track, defaults to format 1 (tempo track # automatically created)\n",
    "MyMIDI.addTempo(track,time, tempo)\n",
    "\n"
   ]
  },
  {
   "cell_type": "code",
   "execution_count": 30,
   "metadata": {},
   "outputs": [
    {
     "name": "stdout",
     "output_type": "stream",
     "text": [
      "34 0.25 64\n",
      "65 0.5 64\n",
      "65 0.75 64\n",
      "12 1.0 100\n",
      "87 1.25 64\n",
      "34 1.5 64\n",
      "12 1.75 64\n",
      "65 2.0 100\n",
      "87 2.25 64\n",
      "12 2.5 64\n",
      "12 2.75 64\n",
      "65 3.0 100\n",
      "34 3.25 64\n",
      "12 3.5 64\n",
      "34 3.75 64\n",
      "65 4.0 100\n",
      "34 4.25 64\n",
      "65 4.5 64\n",
      "34 4.75 64\n",
      "87 5.0 100\n"
     ]
    }
   ],
   "source": [
    "time = 0\n",
    "chord = [34,65,87,12]\n",
    "for i in range(20):\n",
    "    pitch = random.choice(chord)\n",
    "    #time = random.randrange(0, 127)\n",
    "    time = time + 0.25\n",
    "    if time - int(time)<0.25:\n",
    "        volume=100\n",
    "        \n",
    "   \n",
    "    MyMIDI.addNote(track, channel, pitch, time, duration, volume)\n",
    "    print (pitch, time, volume)\n",
    "    volume = 64\n",
    "    "
   ]
  },
  {
   "cell_type": "code",
   "execution_count": 31,
   "metadata": {},
   "outputs": [],
   "source": [
    "with open(\"output.mid\", \"wb\") as output_file: MyMIDI.writeFile(output_file)\n",
    "open_file('output.mid')"
   ]
  },
  {
   "cell_type": "code",
   "execution_count": null,
   "metadata": {},
   "outputs": [],
   "source": []
  }
 ],
 "metadata": {
  "kernelspec": {
   "display_name": "Python 3",
   "language": "python",
   "name": "python3"
  },
  "language_info": {
   "codemirror_mode": {
    "name": "ipython",
    "version": 3
   },
   "file_extension": ".py",
   "mimetype": "text/x-python",
   "name": "python",
   "nbconvert_exporter": "python",
   "pygments_lexer": "ipython3",
   "version": "3.7.3"
  }
 },
 "nbformat": 4,
 "nbformat_minor": 2
}
